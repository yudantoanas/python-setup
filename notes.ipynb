{
 "cells": [
  {
   "cell_type": "markdown",
   "metadata": {},
   "source": [
    "tata cara nulis text di cell markdown\n",
    "https://github.com/adam-p/markdown-here/wiki/Markdown-Cheatsheet"
   ]
  },
  {
   "cell_type": "markdown",
   "metadata": {},
   "source": [
    "teks bebas\n",
    "\n",
    "Dibawah ini adalah fungsi untuk tambah"
   ]
  },
  {
   "cell_type": "code",
   "execution_count": null,
   "metadata": {},
   "outputs": [],
   "source": [
    "# fungsi tambah\n",
    "# ... kodingan terkait fungsi tambah ..."
   ]
  },
  {
   "cell_type": "markdown",
   "metadata": {},
   "source": [
    "dibawah ini adalah fungsi untuk kurang"
   ]
  },
  {
   "cell_type": "code",
   "execution_count": null,
   "metadata": {},
   "outputs": [],
   "source": [
    "# fungsi kurang\n",
    "# ... kodingan terkait fungsi tambah ..."
   ]
  },
  {
   "cell_type": "markdown",
   "metadata": {},
   "source": [
    "- `git init` : untuk menerapkan teknologi git dalam project\n",
    "- `git add .`: untuk menandakan perubahan/changes yang sudah dilakukan\n",
    "- `git commit`: untuk menyimpan perubahan yang udah di tandain -> perlu ada pesan commit\n",
    "- `git push`: mengupload perubahan yang sudah di commit"
   ]
  },
  {
   "cell_type": "markdown",
   "metadata": {},
   "source": [
    "perubahan dari komputer lain"
   ]
  }
 ],
 "metadata": {
  "language_info": {
   "name": "python"
  }
 },
 "nbformat": 4,
 "nbformat_minor": 2
}
